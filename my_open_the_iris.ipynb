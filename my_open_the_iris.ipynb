{
 "cells": [
  {
   "cell_type": "code",
   "execution_count": 1,
   "id": "e3134efe",
   "metadata": {},
   "outputs": [],
   "source": [
    "import pandas as pd\n",
    "from pandas.plotting import scatter_matrix\n",
    "\n",
    "from matplotlib import pyplot "
   ]
  },
  {
   "cell_type": "code",
   "execution_count": 2,
   "id": "f28ce407",
   "metadata": {},
   "outputs": [],
   "source": [
    "from sklearn.model_selection import train_test_split, cross_val_score\n",
    "\n",
    "from sklearn.tree import DecisionTreeClassifier\n",
    "from sklearn.naive_bayes import GaussianNB\n",
    "from sklearn.neighbors import KNeighborsClassifier\n",
    "from sklearn.linear_model import LogisticRegression\n",
    "from sklearn.discriminant_analysis import LinearDiscriminantAnalysis\n",
    "\n",
    "from sklearn.svm import SVC"
   ]
  },
  {
   "cell_type": "code",
   "execution_count": 3,
   "id": "0774886a",
   "metadata": {},
   "outputs": [],
   "source": [
    "def load_dataset():\n",
    "    dataset = pd.read_csv('iris.csv')\n",
    "    return dataset\n",
    "dataset = load_dataset()"
   ]
  },
  {
   "cell_type": "code",
   "execution_count": 4,
   "id": "391dff48",
   "metadata": {},
   "outputs": [],
   "source": [
    "# its shape\n",
    "# its ten first lines\n",
    "# its statistical summary\n",
    "# Its distribution\n",
    "\n",
    "def summarize_dataset(dataset):\n",
    "    print(f\"Dataset dimension:\\n{dataset.shape}\\n\")\n",
    "    print(f\"First 10 rows of dataset:\\n{dataset.head(10)}\\n\")\n",
    "    print(f\"Statistical summary:\\n{dataset.describe()}\\n\")\n",
    "    print(f\"Class Distribution:\\n{dataset.groupby('class').size()}\")    \n"
   ]
  },
  {
   "cell_type": "code",
   "execution_count": null,
   "id": "27049719",
   "metadata": {},
   "outputs": [],
   "source": [
    "summarize_dataset(dataset)"
   ]
  },
  {
   "cell_type": "code",
   "execution_count": 6,
   "id": "7aa85873",
   "metadata": {},
   "outputs": [],
   "source": [
    "def print_plot_univariate(dataset):\n",
    "    dataset.hist()\n",
    "    pyplot.show()"
   ]
  },
  {
   "cell_type": "code",
   "execution_count": null,
   "id": "8d633f8c",
   "metadata": {},
   "outputs": [],
   "source": [
    "print_plot_univariate(dataset)"
   ]
  },
  {
   "cell_type": "code",
   "execution_count": 10,
   "id": "9674018f",
   "metadata": {},
   "outputs": [],
   "source": [
    "def print_plot_multivariate(dataset):\n",
    "    pd.plotting.scatter_matrix(dataset)\n",
    "    pyplot.show()"
   ]
  },
  {
   "cell_type": "code",
   "execution_count": null,
   "id": "ac264cef",
   "metadata": {
    "scrolled": true
   },
   "outputs": [],
   "source": [
    "print_plot_multivariate(dataset)"
   ]
  },
  {
   "cell_type": "code",
   "execution_count": 20,
   "id": "6082981a",
   "metadata": {},
   "outputs": [],
   "source": [
    "def my_print_and_test_models(dataset):\n",
    "    array = dataset.values\n",
    "    x = array[:, :4]\n",
    "    y = array[:, 4]\n",
    "    x_train, x_test, y_train, y_test = train_test_split(x, y, test_size=0.20, random_state=1)\n",
    "\n",
    "    \n",
    "    models = [\n",
    "        ('Decision Tree', DecisionTreeClassifier()),   \n",
    "        (\"Gaussian Naive Bayes\", GaussianNB()),        \n",
    "        (\"K-Nearest Neighbors\", KNeighborsClassifier()),     \n",
    "        (\"Logistic Regression\", LogisticRegression(solver='liblinear', multi_class='ovr')), \n",
    "        (\"Linear Discriminant Analysis\", LinearDiscriminantAnalysis()),\n",
    "        (\"Support Vector Machine\", SVC(gamma='auto'))\n",
    "    ]\n",
    "    \n",
    "    # Iterating over each model and evaluating their performance using cross-validation\n",
    "    \n",
    "    results = []\n",
    "    for model_name, model in models:\n",
    "        cv_res = cross_val_score(model, x_train, y_train, cv=5, scoring='accuracy')\n",
    "        str_res = f\"{model_name}: {cv_res.mean():.4f} ({cv_res.std():.4f})\"\n",
    "        \n",
    "        results.append(str_res)\n",
    "    return results   "
   ]
  },
  {
   "cell_type": "code",
   "execution_count": null,
   "id": "e2f4693a",
   "metadata": {},
   "outputs": [],
   "source": [
    "my_print_and_test_models(dataset)"
   ]
  },
  {
   "cell_type": "code",
   "execution_count": 23,
   "id": "c761e793",
   "metadata": {},
   "outputs": [
    {
     "name": "stdout",
     "output_type": "stream",
     "text": [
      "\n",
      "\u001b[94m\n",
      " ██████╗ ██╗    ██╗ █████╗ ███████╗ █████╗ ██████╗    ██╗ ██████╗ \n",
      "██╔═══██╗██║    ██║██╔══██╗██╔════╝██╔══██╗██╔══██╗   ██║██╔═══██╗\n",
      "██║   ██║██║ █╗ ██║███████║███████╗███████║██████╔╝   ██║██║   ██║\n",
      "██║▄▄ ██║██║███╗██║██╔══██║╚════██║██╔══██║██╔══██╗   ██║██║   ██║\n",
      "╚██████╔╝╚███╔███╔╝██║  ██║███████║██║  ██║██║  ██║██╗██║╚██████╔╝\n",
      " ╚══▀▀═╝  ╚══╝╚══╝ ╚═╝  ╚═╝╚══════╝╚═╝  ╚═╝╚═╝  ╚═╝╚═╝╚═╝ ╚═════╝ \n",
      "\t\t\t\t\t\t\t\t\t\t\t\t\t\t\t\t\t\t\t\t\t\t\t\t\t\t\t\t\t\t\t\t \u001b[0m\n",
      "Booting Gandalf v4.1.12-deab022 (production)\n",
      "Loading parameters:  \u001b[32mOK\u001b[0m\n",
      "User tolbayev_m connection: \u001b[32mOK\u001b[0m\n",
      "\n",
      "\n",
      "<MY_OPEN_THE_IRIS>\n",
      "Directory . exists: \u001b[32mOK\u001b[0m\n",
      "Pushing exercise: \u001b[32mOK\u001b[0m\n",
      "Printing your report:\n",
      "\n",
      " \u001b[97;1;40m     REPORT      \u001b[0m  \u001b[97mMY OPEN THE IRIS\u001b[0m \n",
      "\n",
      " Status             \u001b[92mSUCCESS\u001b[0m          \n",
      " Execution Runtime  3.792522         \n",
      " Score              [\u001b[32m=\u001b[0m\u001b[32m=\u001b[0m\u001b[32m=\u001b[0m\u001b[32m=\u001b[0m] 4/4       \n",
      "\n",
      "\n",
      "Checks detail Report:\n",
      "\n",
      " \u001b[97;1;40mTEST LOAD DATASET\u001b[0m  \u001b[92mSUCCESS\u001b[0m \n",
      "\n",
      "\n",
      "\n",
      " \u001b[97;1;40mTEST PRINT PLOT MULTIVARIATE\u001b[0m  \u001b[92mSUCCESS\u001b[0m \n",
      "\n",
      "\n",
      "\n",
      " \u001b[97;1;40mTEST PRINT PLOT UNIVARIATE\u001b[0m  \u001b[92mSUCCESS\u001b[0m \n",
      "\n",
      "\n",
      "\n",
      " \u001b[97;1;40mTEST SUMMARIZE DATASET\u001b[0m  \u001b[92mSUCCESS\u001b[0m \n",
      "\n",
      "\n",
      "</MY_OPEN_THE_IRIS>\n"
     ]
    }
   ],
   "source": [
    "!gandalf"
   ]
  },
  {
   "cell_type": "code",
   "execution_count": null,
   "id": "af7c5e99",
   "metadata": {},
   "outputs": [],
   "source": []
  }
 ],
 "metadata": {
  "kernelspec": {
   "display_name": "Python 3",
   "language": "python",
   "name": "python3"
  },
  "language_info": {
   "codemirror_mode": {
    "name": "ipython",
    "version": 3
   },
   "file_extension": ".py",
   "mimetype": "text/x-python",
   "name": "python",
   "nbconvert_exporter": "python",
   "pygments_lexer": "ipython3",
   "version": "3.6.7"
  }
 },
 "nbformat": 4,
 "nbformat_minor": 5
}
